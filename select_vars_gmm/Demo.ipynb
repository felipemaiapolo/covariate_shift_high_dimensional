{
 "cells": [
  {
   "cell_type": "markdown",
   "metadata": {},
   "source": [
    "## Setup"
   ]
  },
  {
   "cell_type": "markdown",
   "metadata": {},
   "source": [
    "Carregando pacotes e funções que utilizaremos"
   ]
  },
  {
   "cell_type": "code",
   "execution_count": 1,
   "metadata": {},
   "outputs": [],
   "source": [
    "from sklearn import mixture\n",
    "from sklearn.model_selection import train_test_split\n",
    "\n",
    "from dataset_functions import *\n",
    "from select_vars_gmm import *"
   ]
  },
  {
   "cell_type": "markdown",
   "metadata": {},
   "source": [
    "Definindo função que será utilizada para selecionar o número de componentes nos GMM}"
   ]
  },
  {
   "cell_type": "code",
   "execution_count": 2,
   "metadata": {},
   "outputs": [],
   "source": [
    "def gmm_scores(X_train,X_val,k):  \n",
    "    clf = mixture.GaussianMixture(n_components=k, covariance_type='full')\n",
    "    clf.fit(X_train)\n",
    "    return clf.score(X_val)"
   ]
  },
  {
   "cell_type": "markdown",
   "metadata": {},
   "source": [
    "Carregando dois datasets que utilizaremos"
   ]
  },
  {
   "cell_type": "code",
   "execution_count": 3,
   "metadata": {},
   "outputs": [],
   "source": [
    "dataset_names=['cal_housing', 'fried_delve']"
   ]
  },
  {
   "cell_type": "code",
   "execution_count": 4,
   "metadata": {},
   "outputs": [
    {
     "name": "stdout",
     "output_type": "stream",
     "text": [
      "- *** cal_housing *** dataset shape= (20640, 9)\n",
      "- *** fried_delve *** dataset shape= (40769, 11)\n"
     ]
    }
   ],
   "source": [
    "data={}\n",
    "for name in dataset_names: data[name]=download_dataset(name) "
   ]
  },
  {
   "cell_type": "markdown",
   "metadata": {},
   "source": [
    "Mantendo somente 15000 amostras"
   ]
  },
  {
   "cell_type": "code",
   "execution_count": 5,
   "metadata": {},
   "outputs": [],
   "source": [
    "for name in dataset_names: \n",
    "    n = data[name].shape[0]\n",
    "    index = np.random.choice(n, min(15000,n), replace=False)\n",
    "    data[name]=data[name].iloc[index,:]"
   ]
  },
  {
   "cell_type": "markdown",
   "metadata": {},
   "source": [
    "Dividindo datasets em X e y"
   ]
  },
  {
   "cell_type": "code",
   "execution_count": 6,
   "metadata": {},
   "outputs": [],
   "source": [
    "for name in dataset_names: data[name]=get_X_y(data[name], scale=True)"
   ]
  },
  {
   "cell_type": "markdown",
   "metadata": {},
   "source": [
    "## Exemplo 1: Regressão"
   ]
  },
  {
   "cell_type": "markdown",
   "metadata": {},
   "source": [
    "Abrindo dataset"
   ]
  },
  {
   "cell_type": "code",
   "execution_count": 38,
   "metadata": {},
   "outputs": [
    {
     "data": {
      "text/plain": [
       "((15000, 8), (15000,))"
      ]
     },
     "execution_count": 38,
     "metadata": {},
     "output_type": "execute_result"
    }
   ],
   "source": [
    "X, y = data['cal_housing']\n",
    "\n",
    "X.shape, y.shape"
   ]
  },
  {
   "cell_type": "markdown",
   "metadata": {},
   "source": [
    "Escolhendo número de componentes do GMM"
   ]
  },
  {
   "cell_type": "code",
   "execution_count": 39,
   "metadata": {},
   "outputs": [],
   "source": [
    "X_gmm_train, X_gmm_val, y_gmm_train, y_gmm_val = train_test_split(X, y, test_size=0.33, random_state=42)"
   ]
  },
  {
   "cell_type": "code",
   "execution_count": 40,
   "metadata": {},
   "outputs": [
    {
     "data": {
      "text/plain": [
       "19"
      ]
     },
     "execution_count": 40,
     "metadata": {},
     "output_type": "execute_result"
    }
   ],
   "source": [
    "Z_gmm_train=np.hstack((y_gmm_train.reshape((-1,1)), X_gmm_train))\n",
    "Z_gmm_val=np.hstack((y_gmm_val.reshape((-1,1)), X_gmm_val))\n",
    "scores=np.array([gmm_scores(Z_gmm_train, Z_gmm_val, k) for k in list(range(1,20,1))])\n",
    "k_star=np.argmax(scores)+1\n",
    "k_star"
   ]
  },
  {
   "cell_type": "markdown",
   "metadata": {},
   "source": [
    "O número ótimo de componentes é **k_star**. Fitando GMM final com k_star componentes"
   ]
  },
  {
   "cell_type": "code",
   "execution_count": 41,
   "metadata": {},
   "outputs": [
    {
     "data": {
      "text/plain": [
       "GaussianMixture(covariance_type='full', init_params='kmeans', max_iter=100,\n",
       "                means_init=None, n_components=19, n_init=1,\n",
       "                precisions_init=None, random_state=None, reg_covar=1e-06,\n",
       "                tol=0.001, verbose=0, verbose_interval=10, warm_start=False,\n",
       "                weights_init=None)"
      ]
     },
     "execution_count": 41,
     "metadata": {},
     "output_type": "execute_result"
    }
   ],
   "source": [
    "Z = np.hstack((y.reshape((-1,1)),X))\n",
    "gmm = mixture.GaussianMixture(n_components=k_star, covariance_type='full')\n",
    "gmm.fit(Z)"
   ]
  },
  {
   "cell_type": "markdown",
   "metadata": {},
   "source": [
    "Fazendo a seleção de variáveis. O parâmetro **d_max** é o número máximo de variáveis que podemos selecionar e **stop** é o critério de parada. Por exemplo, se stop=0.01, então quando a melhora marginal de se selecionar uma variáveis é menor que 1%, em comparação ao nível passado, então o algoritmo para."
   ]
  },
  {
   "cell_type": "code",
   "execution_count": 42,
   "metadata": {},
   "outputs": [
    {
     "name": "stdout",
     "output_type": "stream",
     "text": [
      "Let's begin the selection...\n",
      "- Round= 0 --- Î=0.76 --- Selected Features=[0, 1, 2, 3, 5, 6, 7]\n",
      "- Round= 1 --- Î=0.76 --- Selected Features=[0, 1, 2, 5, 6, 7]\n",
      "- Round= 2 --- Î=0.74 --- Selected Features=[0, 1, 5, 6, 7]\n"
     ]
    }
   ],
   "source": [
    "select=SelectVars(gmm, selection_mode = 'remove', d_max=5, stop=.01)\n",
    "select.fit(X, y, verbose=True)    "
   ]
  },
  {
   "cell_type": "markdown",
   "metadata": {},
   "source": [
    "Das 8 variáveis originais, selecionamos 6. Vamos ver quais são essas 6:"
   ]
  },
  {
   "cell_type": "code",
   "execution_count": 43,
   "metadata": {},
   "outputs": [
    {
     "data": {
      "text/plain": [
       "[0, 1, 5, 6, 7]"
      ]
     },
     "execution_count": 43,
     "metadata": {},
     "output_type": "execute_result"
    }
   ],
   "source": [
    "select.get_vars()"
   ]
  },
  {
   "cell_type": "markdown",
   "metadata": {},
   "source": [
    "Plotando informação mútua com erro padrão:"
   ]
  },
  {
   "cell_type": "code",
   "execution_count": 44,
   "metadata": {},
   "outputs": [
    {
     "data": {
      "image/png": "[encoded data removed]",
      "text/plain": [
       "<Figure size 432x288 with 1 Axes>"
      ]
     },
     "metadata": {
      "needs_background": "light"
     },
     "output_type": "display_data"
    }
   ],
   "source": [
    "select.plot_mi()"
   ]
  },
  {
   "cell_type": "markdown",
   "metadata": {},
   "source": [
    "Podemos ainda pegar os dados que geraram o gráfico... a tupla volta as informações mútuas e desvios-padrão"
   ]
  },
  {
   "cell_type": "code",
   "execution_count": 45,
   "metadata": {},
   "outputs": [
    {
     "data": {
      "text/plain": [
       "([0.758794252190614, 0.7568912142260318, 0.7396299457926477],\n",
       " [1.2247306189347444, 1.1528324956596974, 1.1400621357650218])"
      ]
     },
     "execution_count": 45,
     "metadata": {},
     "output_type": "execute_result"
    }
   ],
   "source": [
    "select.get_mi()"
   ]
  },
  {
   "cell_type": "markdown",
   "metadata": {},
   "source": [
    "Transformando array de features (seleção)"
   ]
  },
  {
   "cell_type": "code",
   "execution_count": 46,
   "metadata": {},
   "outputs": [
    {
     "data": {
      "text/plain": [
       "(15000, 5)"
      ]
     },
     "execution_count": 46,
     "metadata": {},
     "output_type": "execute_result"
    }
   ],
   "source": [
    "X_new = select.transform(X)\n",
    "\n",
    "X_new.shape"
   ]
  },
  {
   "cell_type": "markdown",
   "metadata": {},
   "source": [
    "## Exemplo 2: Classificação"
   ]
  },
  {
   "cell_type": "markdown",
   "metadata": {},
   "source": [
    "Abrindo dataset"
   ]
  },
  {
   "cell_type": "code",
   "execution_count": 7,
   "metadata": {},
   "outputs": [
    {
     "data": {
      "text/plain": [
       "((15000, 10), (15000,))"
      ]
     },
     "execution_count": 7,
     "metadata": {},
     "output_type": "execute_result"
    }
   ],
   "source": [
    "X, y = data['fried_delve']\n",
    "\n",
    "X.shape, y.shape"
   ]
  },
  {
   "cell_type": "markdown",
   "metadata": {},
   "source": [
    "Transformando label quantitativo em categórico"
   ]
  },
  {
   "cell_type": "code",
   "execution_count": 8,
   "metadata": {},
   "outputs": [],
   "source": [
    "y = 1*(y>np.median(y))"
   ]
  },
  {
   "cell_type": "markdown",
   "metadata": {},
   "source": [
    "Para cada classe vamos fitar um GMM. Por conta disso, criaremos um dicionário de GMMs"
   ]
  },
  {
   "cell_type": "code",
   "execution_count": 9,
   "metadata": {},
   "outputs": [],
   "source": [
    "X_train, X_val, y_train, y_val = train_test_split(X, y, test_size=0.33, random_state=42)"
   ]
  },
  {
   "cell_type": "code",
   "execution_count": 10,
   "metadata": {},
   "outputs": [],
   "source": [
    "classes=list(set(y_train))\n",
    "gmm={}\n",
    "\n",
    "for c in classes:\n",
    "    #Selecting number of components\n",
    "    X_gmm_train, X_gmm_val, _, _=train_test_split(X_train[y_train==c], X_train[y_train==c], test_size=0.5, random_state=42)\n",
    "    scores=np.array([gmm_scores(X_gmm_train, X_gmm_val, k) for k in list(range(1,15,1))])\n",
    "    k_star=np.argmax(scores)+1\n",
    "\n",
    "    #Training GMMs\n",
    "    gmm[c] = mixture.GaussianMixture(n_components=k_star, covariance_type='full', random_state=42)\n",
    "    gmm[c].fit(X_train[y_train==c])"
   ]
  },
  {
   "cell_type": "markdown",
   "metadata": {},
   "source": [
    "Fazendo seleção. Ao contrário do caso da regressão, oferecemos ao algoritmo um dicionário de GMMs ao invés de um modelo único:"
   ]
  },
  {
   "cell_type": "code",
   "execution_count": 19,
   "metadata": {},
   "outputs": [
    {
     "name": "stdout",
     "output_type": "stream",
     "text": [
      "Let's begin the selection...\n",
      "- Round= 0 --- Î=0.47 --- Selected Features=[0, 1, 2, 3, 4, 5, 6, 7, 8]\n",
      "- Round= 1 --- Î=0.47 --- Selected Features=[0, 1, 2, 3, 4, 6, 7, 8]\n",
      "- Round= 2 --- Î=0.47 --- Selected Features=[0, 1, 2, 3, 4, 6, 8]\n",
      "- Round= 3 --- Î=0.48 --- Selected Features=[0, 1, 2, 3, 4, 8]\n",
      "- Round= 4 --- Î=0.48 --- Selected Features=[0, 1, 2, 3, 4]\n",
      "- Round= 5 --- Î=0.42 --- Selected Features=[0, 1, 3, 4]\n",
      "- Round= 6 --- Î=0.35 --- Selected Features=[0, 1, 3]\n"
     ]
    }
   ],
   "source": [
    "select=SelectVars(gmm,selection_mode='remove', d_max=3, stop=.1)\n",
    "select.fit(X, y, verbose=True)    "
   ]
  },
  {
   "cell_type": "code",
   "execution_count": 20,
   "metadata": {},
   "outputs": [
    {
     "data": {
      "image/png": "[encoded data removed]",
      "text/plain": [
       "<Figure size 432x288 with 1 Axes>"
      ]
     },
     "metadata": {
      "needs_background": "light"
     },
     "output_type": "display_data"
    }
   ],
   "source": [
    "select.plot_mi()"
   ]
  },
  {
   "cell_type": "code",
   "execution_count": null,
   "metadata": {},
   "outputs": [],
   "source": []
  }
 ],
 "metadata": {
  "kernelspec": {
   "display_name": "Python 3",
   "language": "python",
   "name": "python3"
  },
  "language_info": {
   "codemirror_mode": {
    "name": "ipython",
    "version": 3
   },
   "file_extension": ".py",
   "mimetype": "text/x-python",
   "name": "python",
   "nbconvert_exporter": "python",
   "pygments_lexer": "ipython3",
   "version": "3.5.3"
  }
 },
 "nbformat": 4,
 "nbformat_minor": 4
}
